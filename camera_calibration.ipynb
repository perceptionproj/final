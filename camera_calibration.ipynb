{
 "cells": [
  {
   "cell_type": "markdown",
   "metadata": {},
   "source": [
    "# Week 4 project"
   ]
  },
  {
   "cell_type": "code",
   "execution_count": 1,
   "metadata": {},
   "outputs": [],
   "source": [
    "import numpy as np\n",
    "import cv2\n",
    "import glob\n",
    "import matplotlib.pyplot as plt"
   ]
  },
  {
   "cell_type": "markdown",
   "metadata": {},
   "source": [
    "# Loading the images & undistortion"
   ]
  },
  {
   "cell_type": "code",
   "execution_count": 2,
   "metadata": {},
   "outputs": [],
   "source": [
    "cam = 'mynteye'\n",
    "images_left = glob.glob(cam + '/left*.png')\n",
    "images_right = glob.glob(cam + '/right*.png')\n",
    "\n",
    "assert images_right, images_left\n",
    "images_right.sort()\n",
    "images_left.sort()\n",
    "#print(images)\n",
    "\n",
    "nb_vertical = 9\n",
    "nb_horizontal = 6\n",
    "\n",
    "# prepare object points, like (0,0,0), (1,0,0), (2,0,0) ....,(6,5,0)\n",
    "objp = np.zeros((nb_horizontal*nb_vertical,3), np.float32)\n",
    "objp[:,:2] = np.mgrid[0:nb_vertical,0:nb_horizontal].T.reshape(-1,2)\n",
    "\n",
    "# Arrays to store object points and image points from all the images.\n",
    "objpoints_l = [] # 3d point in real world space\n",
    "imgpoints_l = [] # 2d points in image plane.\n",
    "\n",
    "objpoints_r = [] # 3d point in real world space\n",
    "imgpoints_r = [] # 2d points in image plane.\n",
    "\n",
    "for fname in images_left:\n",
    "    img = cv2.imread(fname)\n",
    "    gray = cv2.cvtColor(img,cv2.COLOR_BGR2GRAY)\n",
    "    ret, corners = cv2.findChessboardCorners(gray, patternSize = (nb_vertical, nb_horizontal))\n",
    "    # If found, add object points, image points (after refining them)\n",
    "    if ret == True:\n",
    "        objpoints_l.append(objp)\n",
    "        imgpoints_l.append(corners)\n",
    "\n",
    "        # Draw and display the corners\n",
    "        img = cv2.drawChessboardCorners(img, (nb_vertical,nb_horizontal), corners,ret)\n",
    "        cv2.imshow('img',img)\n",
    "        cv2.waitKey(5)\n",
    "cv2.destroyAllWindows()\n",
    "\n",
    "for fname in images_right:\n",
    "    img = cv2.imread(fname)\n",
    "    gray = cv2.cvtColor(img,cv2.COLOR_BGR2GRAY)\n",
    "    ret, corners = cv2.findChessboardCorners(gray, patternSize = (nb_vertical, nb_horizontal))\n",
    "    # If found, add object points, image points (after refining them)\n",
    "    if ret == True:\n",
    "        objpoints_r.append(objp)\n",
    "        imgpoints_r.append(corners)\n",
    "\n",
    "        # Draw and display the corners\n",
    "        img = cv2.drawChessboardCorners(img, (nb_vertical,nb_horizontal), corners,ret)\n",
    "        cv2.imshow('img',img)\n",
    "        cv2.waitKey(5)\n",
    "cv2.destroyAllWindows()"
   ]
  },
  {
   "cell_type": "markdown",
   "metadata": {},
   "source": [
    "Using the extracted corners we can obtain a camera matrix that contains the information needed to undistort images"
   ]
  },
  {
   "cell_type": "code",
   "execution_count": 12,
   "metadata": {},
   "outputs": [],
   "source": [
    "ret_l, mtx_l, dist_l, rvecs_l, tvecs_l = cv2.calibrateCamera(objpoints_l, imgpoints_l, gray.shape[::-1], None, None, flags = cv2.CALIB_RATIONAL_MODEL)\n",
    "\n",
    "img_l = cv2.imread(cam + '/left-0001.png')\n",
    "h,  w = img_l.shape[:2]\n",
    "newcameramtx_l, roi_l = cv2.getOptimalNewCameraMatrix(mtx_l,dist_l,(w,h),1,(w,h))\n",
    "\n",
    "ret_r, mtx_r, dist_r, rvecs_r, tvecs_r = cv2.calibrateCamera(objpoints_r, imgpoints_r, gray.shape[::-1], None, None, flags = cv2.CALIB_RATIONAL_MODEL)\n",
    "img_r = cv2.imread(cam + '/right-0001.png')\n",
    "h,  w = img_r.shape[:2]\n",
    "newcameramtx_r, roi_r = cv2.getOptimalNewCameraMatrix(mtx_r,dist_r,(w,h),1,(w,h))"
   ]
  },
  {
   "cell_type": "code",
   "execution_count": null,
   "metadata": {},
   "outputs": [],
   "source": [
    "# undistort\n",
    "img_l_undist = cv2.undistort(img_l, mtx_l, dist_l, None, newcameramtx_l)\n",
    "img_l = cv2.imread(cam + '/left-0001.png')\n",
    "\n",
    "# cv2.imshow('distorted image', img_l)\n",
    "# cv2.waitKey()\n",
    "\n",
    "cv2.imshow('undistorted image', img_l_undist)\n",
    "cv2.waitKey()\n",
    "cv2.destroyAllWindows()"
   ]
  },
  {
   "cell_type": "code",
   "execution_count": null,
   "metadata": {},
   "outputs": [],
   "source": []
  }
 ],
 "metadata": {
  "kernelspec": {
   "display_name": "Python 2",
   "language": "python",
   "name": "python2"
  },
  "language_info": {
   "codemirror_mode": {
    "name": "ipython",
    "version": 2
   },
   "file_extension": ".py",
   "mimetype": "text/x-python",
   "name": "python",
   "nbconvert_exporter": "python",
   "pygments_lexer": "ipython2",
   "version": "2.7.17"
  }
 },
 "nbformat": 4,
 "nbformat_minor": 2
}
